{
  "cells": [
    {
      "cell_type": "code",
      "execution_count": null,
      "metadata": {
        "id": "7fmzupabE_mA"
      },
      "outputs": [],
      "source": [
        "import numpy as np\n",
        "import matplotlib.pyplot as plt\n",
        "import seaborn as sns\n",
        "import torch\n",
        "import torch.nn as nn\n",
        "import torch.nn.functional as F\n",
        "import torch.optim as optim\n",
        "from torch.utils.data import DataLoader\n",
        "import torchvision\n",
        "import torchvision.transforms as transforms\n",
        "import torchvision.datasets as datasets\n",
        "from sklearn.metrics import classification_report, confusion_matrix, precision_score, recall_score, f1_score\n",
        "from collections import Counter"
      ]
    },
    {
      "cell_type": "code",
      "execution_count": null,
      "metadata": {
        "id": "sMCP5a8M5AZT"
      },
      "outputs": [],
      "source": [
        "#mount your drive if using colab"
      ]
    },
    {
      "cell_type": "code",
      "execution_count": null,
      "metadata": {
        "id": "cifSel6BFBg2"
      },
      "outputs": [],
      "source": [
        "\n",
        "device = torch.device('cuda' if torch.cuda.is_available() else 'cpu')\n",
        "transform = transforms.Compose([transforms.Resize(256),\n",
        "                                transforms.RandomResizedCrop(224),\n",
        "                                transforms.RandomHorizontalFlip(),\n",
        "                                transforms.RandomRotation(30),\n",
        "                                transforms.ColorJitter(brightness=0.4, contrast=0.4, saturation=0.4, hue=0.4),\n",
        "                                transforms.ToTensor(),\n",
        "                                transforms.Normalize((0.485, 0.456, 0.406), (0.229, 0.224, 0.225))\n",
        "                                ])"
      ]
    },
    {
      "cell_type": "code",
      "execution_count": null,
      "metadata": {
        "id": "PFPOUw7eFCUV"
      },
      "outputs": [],
      "source": [
        "train_dataset = datasets.ImageFolder('./Training', transform=transform)\n",
        "test_dataset = datasets.ImageFolder('.Testing', transform=transform)"
      ]
    },
    {
      "cell_type": "code",
      "execution_count": null,
      "metadata": {
        "id": "PhHfQYynFC1x"
      },
      "outputs": [],
      "source": [
        "condition_names = ['Glioma', 'Meningioma', 'No Tumor', 'Pituitary']\n",
        "\n",
        "\n",
        "class_counts = Counter([label for _, label in train_dataset.imgs])\n",
        "total_samples = sum(class_counts.values())\n",
        "class_weights = [total_samples / class_counts[i] for i in range(len(condition_names))]\n",
        "class_weights = torch.tensor(class_weights, dtype=torch.float, device=device)\n",
        "\n",
        "class_sample_counts = [class_counts[i] for i in range(len(condition_names))]\n",
        "weights = 1. / torch.tensor(class_sample_counts, dtype=torch.float)\n",
        "sample_weights = [weights[label] for _, label in train_dataset.imgs]\n",
        "\n",
        "sampler = torch.utils.data.WeightedRandomSampler(sample_weights, num_samples=len(train_dataset), replacement=True)"
      ]
    },
    {
      "cell_type": "code",
      "execution_count": null,
      "metadata": {
        "id": "tDCh22BBFDT3"
      },
      "outputs": [],
      "source": [
        "train_loader = DataLoader(train_dataset, batch_size=32, sampler=sampler)\n",
        "test_loader = DataLoader(test_dataset, batch_size=32, shuffle=False)"
      ]
    },
    {
      "cell_type": "code",
      "execution_count": null,
      "metadata": {
        "id": "XmAxlciMFDr6"
      },
      "outputs": [],
      "source": [
        "class CombinedModel(nn.Module):\n",
        "    def __init__(self):\n",
        "        super().__init__()\n",
        "        self.resnet = torchvision.models.resnet18(pretrained=True)\n",
        "        for param in self.resnet.parameters():\n",
        "            param.requires_grad = False\n",
        "\n",
        "        for param in self.resnet.layer1.parameters():\n",
        "            param.requires_grad = True\n",
        "        for param in self.resnet.layer2.parameters():\n",
        "            param.requires_grad = True\n",
        "        for param in self.resnet.layer3.parameters():\n",
        "            param.requires_grad = True\n",
        "        for param in self.resnet.layer4.parameters():\n",
        "            param.requires_grad = True\n",
        "\n",
        "        for param in self.resnet.fc.parameters():\n",
        "            param.requires_grad = True\n",
        "\n",
        "        num_ftrs = self.resnet.fc.in_features\n",
        "        self.resnet.fc = nn.Identity()\n",
        "\n",
        "        self.conv1 = nn.Conv2d(3, 32, kernel_size=3, padding=1)      #outputs (32,224,224) before pooling by self.pool = nn.MaxPool2d(2,2)\n",
        "        self.bn1 = nn.BatchNorm2d(32)\n",
        "        self.pool = nn.MaxPool2d(2,2)                                #outputs (32,112,112) after pooling by self.pool = nn.MaxPool2d(2,2)\n",
        "        self.conv2 = nn.Conv2d(32, 64, kernel_size=3, padding=1)     #outputs (64,56,56)   after pooling by self.pool = nn.MaxPool2d(2,2)\n",
        "        self.bn2 = nn.BatchNorm2d(64)\n",
        "        self.conv3 = nn.Conv2d(64, 128, kernel_size=3, padding=1)         #outputs (128,28,28)  after pooling by self.pool = nn.MaxPool2d(2,2)\n",
        "        self.bn3 = nn.BatchNorm2d(128)\n",
        "        self.conv4 = nn.Conv2d(128, 256, kernel_size=3, padding=1)       #outputs (256, 14,14) after pooling by self.pool = nn.MaxPool2d(2,2)\n",
        "        self.bn4 = nn.BatchNorm2d(256)\n",
        "        self.dropout = nn.Dropout(0.5)\n",
        "        self.fc1 = nn.Linear(50688, 512)\n",
        "        self.fc2 = nn.Linear(512, 4)\n",
        "\n",
        "\n",
        "    def forward(self, x):\n",
        "        resnet_features = self.resnet(x)\n",
        "\n",
        "        x = self.pool(F.relu(self.conv1(x)))\n",
        "        x = self.pool(F.relu(self.conv2(x)))\n",
        "        x = self.pool(F.relu(self.conv3(x)))\n",
        "        x = self.pool(F.relu(self.conv4(x)))\n",
        "        x = self.dropout(x)\n",
        "\n",
        "        x = torch.flatten(x, 1)\n",
        "        combined_features = torch.cat((resnet_features, x), dim=1)\n",
        "        x = F.relu(self.fc1(combined_features))\n",
        "        x = self.fc2(x)\n",
        "\n",
        "        return x"
      ]
    },
    {
      "cell_type": "code",
      "execution_count": null,
      "metadata": {
        "id": "8Sr7lJCvFcDd"
      },
      "outputs": [],
      "source": [
        "combinedModel = CombinedModel()\n",
        "combinedModel.to(device)\n",
        "\n",
        "\n",
        "loss_function = nn.CrossEntropyLoss(weight=class_weights)\n",
        "optimizer = optim.Adam(combinedModel.parameters(), lr=1e-4)\n",
        "lr_scheduler = optim.lr_scheduler.StepLR(optimizer, step_size=10, gamma=0.1)"
      ]
    },
    {
      "cell_type": "code",
      "execution_count": null,
      "metadata": {
        "collapsed": true,
        "id": "WKgtgxM1Fft0"
      },
      "outputs": [],
      "source": [
        "train_losses = []\n",
        "test_accuracies = []\n",
        "precision_scores = []\n",
        "recall_scores = []\n",
        "f1_scores = []\n",
        "\n",
        "for epoch in range(30):\n",
        "    print(f\"Training epoch {epoch+1} ...\")\n",
        "\n",
        "    combinedModel.train()\n",
        "    running_loss = 0.0\n",
        "\n",
        "\n",
        "    for i, data in enumerate(train_loader):\n",
        "        inputs, labels = data\n",
        "        inputs = inputs.to(device)\n",
        "        labels = labels.to(device)\n",
        "        optimizer.zero_grad()\n",
        "\n",
        "        output = combinedModel(inputs)\n",
        "        loss = loss_function(output, labels)\n",
        "\n",
        "        loss.backward()\n",
        "        optimizer.step()\n",
        "        running_loss += loss.item()\n",
        "\n",
        "    avg_loss = running_loss / len(train_loader)\n",
        "    train_losses.append(avg_loss)\n",
        "\n",
        "    combinedModel.eval()\n",
        "    correct = 0\n",
        "    total = 0\n",
        "    all_labels = []\n",
        "    all_predictions = []\n",
        "\n",
        "\n",
        "    with torch.no_grad():\n",
        "        for data in test_loader:\n",
        "            inputs, labels = data\n",
        "            inputs = inputs.to(device)\n",
        "            labels = labels.to(device)\n",
        "            outputs = combinedModel(inputs)\n",
        "            _, predicted = torch.max(outputs, 1)\n",
        "            total += labels.size(0)\n",
        "            correct += (predicted == labels).sum().item()\n",
        "\n",
        "            all_labels.extend(labels.cpu().numpy())\n",
        "            all_predictions.extend(predicted.cpu().numpy())\n",
        "\n",
        "    accuracy = 100 * correct / total\n",
        "    test_accuracies.append(accuracy)\n",
        "\n",
        "    precision = precision_score(all_labels, all_predictions, average='weighted', zero_division=0)\n",
        "    recall = recall_score(all_labels, all_predictions, average='weighted', zero_division=0)\n",
        "    f1 = f1_score(all_labels, all_predictions, average='weighted')\n",
        "\n",
        "    precision_scores.append(precision)\n",
        "    recall_scores.append(recall)\n",
        "    f1_scores.append(f1)\n",
        "\n",
        "    print(f\"Epoch {epoch+1}/{30} - Loss: {avg_loss:.4f} - Accuracy: {accuracy:.2f}%\")\n",
        "\n",
        "    lr_scheduler.step()\n",
        "\n",
        "\n",
        "fig, ax1 = plt.subplots()\n",
        "ax1.set_xlabel('Epoch')\n",
        "ax1.set_ylabel('Loss', color='tab:blue')\n",
        "ax1.plot(range(1, 31), train_losses, color='tab:red', marker='o', label='Train Loss')\n",
        "ax1.tick_params(axis='y', labelcolor='tab:red')\n",
        "\n",
        "ax2 = ax1.twinx()\n",
        "ax2.set_ylabel('Accuracy (%)', color='tab:green')\n",
        "ax2.plot(range(1, 31), test_accuracies, color='tab:blue', marker= 'o', label='Test Accuracy')\n",
        "ax2.tick_params(axis='y', labelcolor='tab:blue')\n",
        "\n",
        "plt.title('Training Loss and Test Accuracy Over Epochs')\n",
        "plt.legend(loc='upper left')\n",
        "plt.show()\n",
        "\n",
        "# Confusion matrix\n",
        "cm = confusion_matrix(all_labels, all_predictions)\n",
        "plt.figure(figsize=(8, 6))\n",
        "sns.heatmap(cm, annot=True, fmt='d', cmap='Blues', xticklabels=condition_names, yticklabels=condition_names)\n",
        "plt.xlabel('Predicted')\n",
        "plt.ylabel('True')\n",
        "plt.title('Confusion Matrix')\n",
        "plt.show()\n",
        "\n",
        "print(f\"Precision: {precision:.4f} - Recall: {recall:.4f} - F1 Score: {f1:.4f}\")\n",
        "\n",
        "# Classification report\n",
        "print(\"\\nClassification Report:\\n\")\n",
        "print(classification_report(all_labels, all_predictions, target_names=condition_names))"
      ]
    },
    {
      "cell_type": "code",
      "execution_count": null,
      "metadata": {
        "id": "WL-9bQRa53dS"
      },
      "outputs": [],
      "source": []
    }
  ],
  "metadata": {
    "accelerator": "GPU",
    "colab": {
      "gpuType": "T4",
      "provenance": []
    },
    "kernelspec": {
      "display_name": "Python 3",
      "name": "python3"
    },
    "language_info": {
      "name": "python"
    }
  },
  "nbformat": 4,
  "nbformat_minor": 0
}
